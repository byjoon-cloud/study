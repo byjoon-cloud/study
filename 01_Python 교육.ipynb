{
 "cells": [
  {
   "cell_type": "markdown",
   "metadata": {},
   "source": [
    "### 1. Jupyter Nodebook 사용법\n",
    "- cell 단위로 python 코드를 실행 할 수 있는 에디터\n",
    "- mode\n",
    "    - 명령모드(esc) : 셀을 편집 할 때 사용\n",
    "    - 편집모드(enter) : 셀 안의 내용을 편집할 떄 사용\n",
    "- cell style\n",
    "    - code : 파이썬 코드를 실행 할 수 있는 셀(y)\n",
    "    - markdown : 마크다운 문법을 실행 할 수 있는 셀(m)\n",
    "        - 마크다운을 텍스트 문서 양식을 편집하는 방법\n",
    "- 많이 사용하는 단축키\n",
    "    - shift + enter : 셀 실행\n",
    "    - tab : 자동완성\n",
    "    - shift + tab : 함수 설명 보기\n",
    "    - ctal(cmd) + / : 주석설정 "
   ]
  },
  {
   "cell_type": "markdown",
   "metadata": {},
   "source": [
    "2. Python 기본문법\n",
    " - 변수선언\n",
    " - 데이터 타입\n",
    " - 연산자\n",
    " - 조건문\n",
    " - 반복문\n",
    " - 함수\n",
    " - 클래스\n",
    " - 모듈\n",
    " - 예외처리"
   ]
  },
  {
   "cell_type": "markdown",
   "metadata": {},
   "source": [
    "### 1. 변수선언\n",
    " - 메모리에 저장 공간을 할당하는 행위\n",
    " - 변수이름(식별자) 규칙\n",
    "    - 소문자, 대문자, 숫자, _\n",
    "    - 가장 앞에 숫자 사용 불가\n",
    "    - 변수 함수 : snake_case, 클래스 : cameCase (PEP8)\n",
    "    - 예약어 사용이 불가 : class, def, try, exception"
   ]
  },
  {
   "cell_type": "code",
   "execution_count": null,
   "metadata": {},
   "outputs": [],
   "source": [
    "num = 1"
   ]
  },
  {
   "cell_type": "code",
   "execution_count": null,
   "metadata": {},
   "outputs": [],
   "source": [
    "num1, num2 = 2,3"
   ]
  },
  {
   "cell_type": "code",
   "execution_count": null,
   "metadata": {},
   "outputs": [],
   "source": [
    "num1 = num2 = 4"
   ]
  },
  {
   "cell_type": "markdown",
   "metadata": {},
   "source": [
    "#### 2. 데이터 타입\n",
    " - RAM 저장공간을 효율적으로 사용하기 위해 만들어진 개념\n",
    " - 동적타이핑 : 값에 따라서 자동으로 데이터 파입을 설정\n",
    " - int, float, bool, str, list"
   ]
  },
  {
   "cell_type": "code",
   "execution_count": 4,
   "metadata": {},
   "outputs": [
    {
     "data": {
      "text/plain": [
       "int"
      ]
     },
     "execution_count": 4,
     "metadata": {},
     "output_type": "execute_result"
    }
   ],
   "source": [
    "num1 = 1\n",
    "type(num1)"
   ]
  },
  {
   "cell_type": "code",
   "execution_count": 5,
   "metadata": {},
   "outputs": [
    {
     "data": {
      "text/plain": [
       "str"
      ]
     },
     "execution_count": 5,
     "metadata": {},
     "output_type": "execute_result"
    }
   ],
   "source": [
    "data1 = \"python\"\n",
    "type(data1)"
   ]
  },
  {
   "cell_type": "code",
   "execution_count": 6,
   "metadata": {},
   "outputs": [
    {
     "data": {
      "text/plain": [
       "(int, float, bool, str)"
      ]
     },
     "execution_count": 6,
     "metadata": {},
     "output_type": "execute_result"
    }
   ],
   "source": [
    "data1, data2, data3, data4 = 1, 1.5, True, \"python\"\n",
    "type(data1), type(data2), type(data3), type(data4)"
   ]
  },
  {
   "cell_type": "code",
   "execution_count": 7,
   "metadata": {},
   "outputs": [
    {
     "data": {
      "text/plain": [
       "'PYTHON'"
      ]
     },
     "execution_count": 7,
     "metadata": {},
     "output_type": "execute_result"
    }
   ],
   "source": [
    "data4.upper()"
   ]
  },
  {
   "cell_type": "code",
   "execution_count": 10,
   "metadata": {},
   "outputs": [],
   "source": [
    "#dir(data4)"
   ]
  },
  {
   "cell_type": "code",
   "execution_count": 9,
   "metadata": {},
   "outputs": [
    {
     "name": "stdout",
     "output_type": "stream",
     "text": [
      "True\n"
     ]
    }
   ],
   "source": [
    "print(data3)"
   ]
  },
  {
   "cell_type": "code",
   "execution_count": 20,
   "metadata": {},
   "outputs": [
    {
     "data": {
      "text/plain": [
       "(list, tuple, dict)"
      ]
     },
     "execution_count": 20,
     "metadata": {},
     "output_type": "execute_result"
    }
   ],
   "source": [
    "# collection\n",
    "# list : 순서가 있는 데이터의 집합\n",
    "# tuple : 순서가 있는 데이터의 집합, 수정 불가능\n",
    "# dic : 순서가 없고 키와 값의 집합으로 이루어진 집합\n",
    "ls, tp, dic = [1,2,3,\"python\",[4,5]], (1,\"data\"), {\"one\" : 1, 2:[2,3]}\n",
    "type(ls), type(tp), type(dic)"
   ]
  },
  {
   "cell_type": "code",
   "execution_count": 22,
   "metadata": {},
   "outputs": [
    {
     "data": {
      "text/plain": [
       "('python', [2, 3], [1, 2], ['python', [4, 5]])"
      ]
     },
     "execution_count": 22,
     "metadata": {},
     "output_type": "execute_result"
    }
   ],
   "source": [
    "# offset index masking\n",
    "ls[3],ls[1:3],ls[:2],ls[3:]"
   ]
  },
  {
   "cell_type": "code",
   "execution_count": 34,
   "metadata": {},
   "outputs": [
    {
     "data": {
      "text/plain": [
       "([4, 5], [[4, 5], 6], [1, 3, [4, 5]], [6, [4, 5], 'python', 3, 2, 1])"
      ]
     },
     "execution_count": 34,
     "metadata": {},
     "output_type": "execute_result"
    }
   ],
   "source": [
    "ls[-2], ls[-2:], ls[::2], ls[::-1]\n",
    "                 #2칸 점프 하여 출력\n",
    "#뒤로 -1 칸씩 가서 출력"
   ]
  },
  {
   "cell_type": "code",
   "execution_count": 29,
   "metadata": {},
   "outputs": [
    {
     "data": {
      "text/plain": [
       "[1, 2, 3, 'python', [4, 5], 6]"
      ]
     },
     "execution_count": 29,
     "metadata": {},
     "output_type": "execute_result"
    }
   ],
   "source": [
    "#데이터 추가\n",
    "ls.append(6)\n",
    "ls"
   ]
  },
  {
   "cell_type": "code",
   "execution_count": 35,
   "metadata": {},
   "outputs": [
    {
     "data": {
      "text/plain": [
       "[1, 2, 10, 'python', [4, 5], 6]"
      ]
     },
     "execution_count": 35,
     "metadata": {},
     "output_type": "execute_result"
    }
   ],
   "source": [
    "#데이터수정\n",
    "ls[2] = 10\n",
    "ls"
   ]
  },
  {
   "cell_type": "code",
   "execution_count": 37,
   "metadata": {
    "scrolled": true
   },
   "outputs": [
    {
     "ename": "TypeError",
     "evalue": "'tuple' object does not support item assignment",
     "output_type": "error",
     "traceback": [
      "\u001b[0;31m---------------------------------------------------------------------------\u001b[0m",
      "\u001b[0;31mTypeError\u001b[0m                                 Traceback (most recent call last)",
      "\u001b[0;32m<ipython-input-37-c12c0d044259>\u001b[0m in \u001b[0;36m<module>\u001b[0;34m\u001b[0m\n\u001b[1;32m      1\u001b[0m \u001b[0;31m#tuple\u001b[0m\u001b[0;34m\u001b[0m\u001b[0;34m\u001b[0m\u001b[0;34m\u001b[0m\u001b[0m\n\u001b[0;32m----> 2\u001b[0;31m \u001b[0mtp\u001b[0m\u001b[0;34m[\u001b[0m\u001b[0;36m1\u001b[0m\u001b[0;34m]\u001b[0m \u001b[0;34m=\u001b[0m \u001b[0;34m\"python\"\u001b[0m\u001b[0;34m\u001b[0m\u001b[0;34m\u001b[0m\u001b[0m\n\u001b[0m",
      "\u001b[0;31mTypeError\u001b[0m: 'tuple' object does not support item assignment"
     ]
    }
   ],
   "source": [
    "#tuple : 같은 데이터를 가지고 있으면 tuple이 list보다 저장공간을 적게 사용\n",
    "tp[1] = \"python\""
   ]
  },
  {
   "cell_type": "code",
   "execution_count": 40,
   "metadata": {
    "scrolled": true
   },
   "outputs": [
    {
     "data": {
      "text/plain": [
       "1"
      ]
     },
     "execution_count": 40,
     "metadata": {},
     "output_type": "execute_result"
    }
   ],
   "source": [
    "#dict : idx값 대신 Key 값을 사용, key값은 int, str 데이터 타입 사용 가능\n",
    "dic, dic[\"one\"]"
   ]
  },
  {
   "cell_type": "code",
   "execution_count": 41,
   "metadata": {},
   "outputs": [
    {
     "data": {
      "text/plain": [
       "{'one': 10, 2: [2, 3]}"
      ]
     },
     "execution_count": 41,
     "metadata": {},
     "output_type": "execute_result"
    }
   ],
   "source": [
    "dic[\"one\"] = 10\n",
    "dic"
   ]
  },
  {
   "cell_type": "code",
   "execution_count": null,
   "metadata": {},
   "outputs": [],
   "source": [
    "#### 3. 연산자\n",
    "- 산술 : 사칙연산 %,//,**\n",
    "- 할당 : 변수에 사칙연산을 누적해서 계산 : +=, -=, **=\n",
    "- 비교 : >, <, ==, !=, >=, <= : 결과가 항상 True, False(bool) 출력\n",
    "- 논리 : Ture와 False를 연산 : and, or, not\n",
    "- 멤버 : in, not in : collection 데이터에서 특정 데이터가 있는지 확인"
   ]
  },
  {
   "cell_type": "code",
   "execution_count": 43,
   "metadata": {},
   "outputs": [
    {
     "data": {
      "text/plain": [
       "81"
      ]
     },
     "execution_count": 43,
     "metadata": {},
     "output_type": "execute_result"
    }
   ],
   "source": [
    "# 산술\n",
    "num1, num2 = 3,4\n",
    "num3 = num1 ** num2\n",
    "num3"
   ]
  },
  {
   "cell_type": "code",
   "execution_count": 45,
   "metadata": {},
   "outputs": [
    {
     "data": {
      "text/plain": [
       "6"
      ]
     },
     "execution_count": 45,
     "metadata": {},
     "output_type": "execute_result"
    }
   ],
   "source": [
    "#할당\n",
    "num1 = 2\n",
    "#num1 = num1 * 3\n",
    "num1 *= 3\n",
    "num1"
   ]
  },
  {
   "cell_type": "code",
   "execution_count": 48,
   "metadata": {},
   "outputs": [
    {
     "data": {
      "text/plain": [
       "(False, True, True)"
      ]
     },
     "execution_count": 48,
     "metadata": {},
     "output_type": "execute_result"
    }
   ],
   "source": [
    "#비교\n",
    "num1, num2 = 1,2\n",
    "num1> num2, num1 < num2, num1 != num2"
   ]
  },
  {
   "cell_type": "code",
   "execution_count": null,
   "metadata": {},
   "outputs": [],
   "source": [
    "#논리\n",
    "True or False, True and False, not True"
   ]
  },
  {
   "cell_type": "code",
   "execution_count": 50,
   "metadata": {},
   "outputs": [
    {
     "data": {
      "text/plain": [
       "(True, False)"
      ]
     },
     "execution_count": 50,
     "metadata": {},
     "output_type": "execute_result"
    }
   ],
   "source": [
    "# 멤버\n",
    "ls = [1,2,3]\n",
    "1 in ls, 1 not in ls"
   ]
  },
  {
   "cell_type": "code",
   "execution_count": 54,
   "metadata": {},
   "outputs": [
    {
     "name": "stdout",
     "output_type": "stream",
     "text": [
      "윤년 입니다.\n"
     ]
    },
    {
     "data": {
      "text/plain": [
       "(True, False)"
      ]
     },
     "execution_count": 54,
     "metadata": {},
     "output_type": "execute_result"
    }
   ],
   "source": [
    "# quiz : year 를 입력하면 윤년인지 아닌지를 알려주는 코드\n",
    "# 4 로 나누어 떨어지면 윤년 입니다.\n",
    "# 100으로 나누어 떨어지면 윤년이 아닙니다.\n",
    "# 400으로 나누어 떨어지면 윤년 입니다.\n",
    "def aa(a):\n",
    "    if a % 4 == 0:\n",
    "        print(\"윤년 입니다.\")\n",
    "    elif a % 100 == 0:\n",
    "        print(\"윤년이 아닙니다.\")\n",
    "    elif a % 400 == 0:\n",
    "        print(\"윤년입니다.\")\n",
    "    return 0\n",
    "\n",
    "aa(1000)\n",
    "\n",
    "year = 300\n",
    "\n",
    "#연산자 우선순위 : 산술 -> 비교 -> 논리\n",
    "(year % 4 ==0) and (year % 100 != 0) or (year % 400 == 0)"
   ]
  },
  {
   "cell_type": "markdown",
   "metadata": {},
   "source": [
    "#### 4. 조건문\n",
    "- 특정 조건에 따라서 코드를 실행하는 문법\n",
    "- if, elif, else"
   ]
  },
  {
   "cell_type": "code",
   "execution_count": 56,
   "metadata": {},
   "outputs": [
    {
     "name": "stdout",
     "output_type": "stream",
     "text": [
      "버스를 탄다.\n",
      "Done\n"
     ]
    }
   ],
   "source": [
    "money = 10000\n",
    "\n",
    "if money > 15000:\n",
    "    print(\"타다를 탄다.\")\n",
    "elif money > 10000:\n",
    "    print(\"택시를 탄다.\")\n",
    "else :\n",
    "    print(\"버스를 탄다.\")\n",
    "print(\"Done\")"
   ]
  },
  {
   "cell_type": "markdown",
   "metadata": {},
   "source": [
    "#### 5. 반복문\n",
    "- 코드를 반복적으로 실행할 떄 사용하는 문법\n",
    "- while, for\n",
    "- continue, break\n",
    "- range"
   ]
  },
  {
   "cell_type": "code",
   "execution_count": 2,
   "metadata": {},
   "outputs": [
    {
     "name": "stdout",
     "output_type": "stream",
     "text": [
      "3\n",
      "2\n",
      "1\n"
     ]
    }
   ],
   "source": [
    "data = 3\n",
    "while data: #True, False 이 아니면 강제형 변환 bool(data)을 함\n",
    "    print(data)\n",
    "    data -= 1"
   ]
  },
  {
   "cell_type": "code",
   "execution_count": 5,
   "metadata": {},
   "outputs": [
    {
     "ename": "NameError",
     "evalue": "name 'boll' is not defined",
     "output_type": "error",
     "traceback": [
      "\u001b[0;31m---------------------------------------------------------------------------\u001b[0m",
      "\u001b[0;31mNameError\u001b[0m                                 Traceback (most recent call last)",
      "\u001b[0;32m<ipython-input-5-29decac3169e>\u001b[0m in \u001b[0;36m<module>\u001b[0;34m\u001b[0m\n\u001b[0;32m----> 1\u001b[0;31m \u001b[0mtype\u001b[0m\u001b[0;34m(\u001b[0m\u001b[0mdata\u001b[0m\u001b[0;34m)\u001b[0m\u001b[0;34m,\u001b[0m \u001b[0mtype\u001b[0m\u001b[0;34m(\u001b[0m\u001b[0mbool\u001b[0m\u001b[0;34m(\u001b[0m\u001b[0mdata\u001b[0m\u001b[0;34m)\u001b[0m\u001b[0;34m)\u001b[0m\u001b[0;34m,\u001b[0m \u001b[0mboll\u001b[0m\u001b[0;34m(\u001b[0m\u001b[0mdata\u001b[0m\u001b[0;34m)\u001b[0m\u001b[0;34m,\u001b[0m \u001b[0mboll\u001b[0m\u001b[0;34m(\u001b[0m\u001b[0;36m3\u001b[0m\u001b[0;34m)\u001b[0m\u001b[0;34m\u001b[0m\u001b[0;34m\u001b[0m\u001b[0m\n\u001b[0m",
      "\u001b[0;31mNameError\u001b[0m: name 'boll' is not defined"
     ]
    }
   ],
   "source": [
    "type(data), type(bool(data)), boll(data), boll(3)"
   ]
  },
  {
   "cell_type": "code",
   "execution_count": 6,
   "metadata": {},
   "outputs": [
    {
     "ename": "NameError",
     "evalue": "name 'boll' is not defined",
     "output_type": "error",
     "traceback": [
      "\u001b[0;31m---------------------------------------------------------------------------\u001b[0m",
      "\u001b[0;31mNameError\u001b[0m                                 Traceback (most recent call last)",
      "\u001b[0;32m<ipython-input-6-ae426693595f>\u001b[0m in \u001b[0;36m<module>\u001b[0;34m\u001b[0m\n\u001b[0;32m----> 1\u001b[0;31m \u001b[0mbool\u001b[0m\u001b[0;34m(\u001b[0m\u001b[0;36m0\u001b[0m\u001b[0;34m)\u001b[0m\u001b[0;34m,\u001b[0m \u001b[0mboll\u001b[0m\u001b[0;34m(\u001b[0m\u001b[0;36m0\u001b[0m\u001b[0;34m,\u001b[0m\u001b[0;36m0\u001b[0m\u001b[0;34m)\u001b[0m\u001b[0;34m,\u001b[0m \u001b[0mboll\u001b[0m\u001b[0;34m(\u001b[0m\u001b[0;34m\"\"\u001b[0m\u001b[0;34m)\u001b[0m\u001b[0;34m,\u001b[0m \u001b[0mboll\u001b[0m\u001b[0;34m(\u001b[0m\u001b[0;34m[\u001b[0m\u001b[0;34m]\u001b[0m\u001b[0;34m)\u001b[0m\u001b[0;34m,\u001b[0m \u001b[0mboll\u001b[0m\u001b[0;34m(\u001b[0m\u001b[0;34m{\u001b[0m\u001b[0;34m}\u001b[0m\u001b[0;34m)\u001b[0m\u001b[0;34m,\u001b[0m \u001b[0mboll\u001b[0m\u001b[0;34m(\u001b[0m\u001b[0;34m(\u001b[0m\u001b[0;34m)\u001b[0m\u001b[0;34m)\u001b[0m\u001b[0;34m\u001b[0m\u001b[0;34m\u001b[0m\u001b[0m\n\u001b[0m",
      "\u001b[0;31mNameError\u001b[0m: name 'boll' is not defined"
     ]
    }
   ],
   "source": [
    "bool(0), boll(0,0), boll(\"\"), boll([]), boll({}), boll(())"
   ]
  },
  {
   "cell_type": "code",
   "execution_count": 7,
   "metadata": {},
   "outputs": [
    {
     "name": "stdout",
     "output_type": "stream",
     "text": [
      "1\n",
      "2\n",
      "3\n"
     ]
    }
   ],
   "source": [
    "#for\n",
    "ls = [1,2,3]\n",
    "for data in ls:\n",
    "    print(data)"
   ]
  },
  {
   "cell_type": "code",
   "execution_count": 12,
   "metadata": {},
   "outputs": [
    {
     "data": {
      "text/plain": [
       "([0, 1, 2], [3, 4, 5, 6], [0, 2, 4])"
      ]
     },
     "execution_count": 12,
     "metadata": {},
     "output_type": "execute_result"
    }
   ],
   "source": [
    "#range : 리스트 데이터를 만들어주는 함수\n",
    "list(range(3)), list(range(3,7)), list(range(0,6,2))"
   ]
  },
  {
   "cell_type": "code",
   "execution_count": 11,
   "metadata": {},
   "outputs": [],
   "source": [
    "for date in range(10):\n",
    "    if data % 2:\n",
    "        continue\n",
    "    if data == 6:\n",
    "        break\n",
    "    print(data)"
   ]
  },
  {
   "cell_type": "code",
   "execution_count": null,
   "metadata": {},
   "outputs": [],
   "source": [
    "# quiz, 로또번호 생성하는 코드 작성\n",
    "# 중복이 되지 않는 랜덤한 1 ~ 45 숫자 6개(리스트 안에)"
   ]
  },
  {
   "cell_type": "code",
   "execution_count": 60,
   "metadata": {},
   "outputs": [
    {
     "name": "stdout",
     "output_type": "stream",
     "text": [
      "[18, 36, 39, 40, 43, 45]\n"
     ]
    }
   ],
   "source": [
    "import random\n",
    "\n",
    "number = random.randint(1,45)\n",
    "\n",
    "roto = []\n",
    "\n",
    "for aa in range(6):\n",
    "    number = random.randint(1,45)\n",
    "\n",
    "    if random_number not in roto:\n",
    "        roto.append(number)\n",
    "\n",
    "    roto.sort()\n",
    "\n",
    "print(roto)"
   ]
  },
  {
   "cell_type": "code",
   "execution_count": 51,
   "metadata": {},
   "outputs": [
    {
     "data": {
      "text/plain": [
       "[2, 5, 6, 26, 32, 34]"
      ]
     },
     "execution_count": 51,
     "metadata": {},
     "output_type": "execute_result"
    }
   ],
   "source": [
    "# while, not in, list.append()\n",
    "#if, break\n",
    "#랜덤한 숫자를 뽑아서 리스트에 추가하는데 중복되는 숫자가 없는 경우\n",
    "\n",
    "lotto = []\n",
    "\n",
    "while True:\n",
    "    random_number = random.randint(1,45)\n",
    "    \n",
    "    if random_number not in lotto:\n",
    "        lotto.append(random_number)\n",
    "    \n",
    "    if len(lotto) >= 6:\n",
    "        lotto.sort()\n",
    "        break\n",
    "        \n",
    "lotto"
   ]
  },
  {
   "cell_type": "code",
   "execution_count": null,
   "metadata": {},
   "outputs": [],
   "source": [
    "# 리스트 컴프리헨션 : 리스트 데이터를 빠르게 만들 때 싸용"
   ]
  },
  {
   "cell_type": "code",
   "execution_count": 64,
   "metadata": {},
   "outputs": [
    {
     "data": {
      "text/plain": [
       "[0, 2, 4, 6, 8, 10]"
      ]
     },
     "execution_count": 64,
     "metadata": {},
     "output_type": "execute_result"
    }
   ],
   "source": [
    "# 짝수 데이터를 0 ~ 10까지 만들기\n",
    "ls = [num for num in range(0,11) if num % 2 ==0]\n",
    "ls"
   ]
  },
  {
   "cell_type": "code",
   "execution_count": 66,
   "metadata": {},
   "outputs": [
    {
     "data": {
      "text/plain": [
       "[0, 4, 16, 36, 64, 100]"
      ]
     },
     "execution_count": 66,
     "metadata": {},
     "output_type": "execute_result"
    }
   ],
   "source": [
    "ls = [num**2 for num in range(0,11) if num % 2 ==0]\n",
    "ls"
   ]
  },
  {
   "cell_type": "code",
   "execution_count": 68,
   "metadata": {},
   "outputs": [
    {
     "name": "stdout",
     "output_type": "stream",
     "text": [
      "CPU times: user 1.21 ms, sys: 40 µs, total: 1.25 ms\n",
      "Wall time: 1.27 ms\n"
     ]
    }
   ],
   "source": [
    "%%time\n",
    "ls = []\n",
    "for num in range(1,10000):\n",
    "    ls.append(num)"
   ]
  },
  {
   "cell_type": "code",
   "execution_count": 69,
   "metadata": {},
   "outputs": [
    {
     "name": "stdout",
     "output_type": "stream",
     "text": [
      "CPU times: user 442 µs, sys: 46 µs, total: 488 µs\n",
      "Wall time: 492 µs\n"
     ]
    }
   ],
   "source": [
    "%%time\n",
    "ls = [num for num in range(0,10000)]"
   ]
  },
  {
   "cell_type": "markdown",
   "metadata": {},
   "source": [
    "###  6. 함수\n",
    "- 함수는 반복되는 코드를 효율적으로 작성해주기 위한 문법\n",
    "- 함수 선언, 함수 호출"
   ]
  },
  {
   "cell_type": "code",
   "execution_count": 93,
   "metadata": {},
   "outputs": [],
   "source": [
    "#함수 선언\n",
    "def get_lotto():\n",
    "    lotto = []\n",
    "\n",
    "    while True:\n",
    "        random_number = random.randint(1,45)\n",
    "\n",
    "        if random_number not in lotto:\n",
    "            lotto.append(random_number)\n",
    "\n",
    "        if len(lotto) >= 6:\n",
    "            lotto.sort()\n",
    "            break\n",
    "    print(lotto)"
   ]
  },
  {
   "cell_type": "code",
   "execution_count": 88,
   "metadata": {},
   "outputs": [
    {
     "name": "stdout",
     "output_type": "stream",
     "text": [
      "[8, 14, 15, 35, 37, 41]\n"
     ]
    }
   ],
   "source": [
    "#함수 호출\n",
    "get_lotto()"
   ]
  },
  {
   "cell_type": "code",
   "execution_count": null,
   "metadata": {},
   "outputs": [],
   "source": [
    "#함수도 하나의 데이터 타입입니다."
   ]
  },
  {
   "cell_type": "code",
   "execution_count": null,
   "metadata": {},
   "outputs": [],
   "source": [
    "# % jupyter notebook에서 제공하는 magic command"
   ]
  },
  {
   "cell_type": "code",
   "execution_count": 89,
   "metadata": {},
   "outputs": [
    {
     "name": "stdout",
     "output_type": "stream",
     "text": [
      "Once deleted, variables cannot be recovered. Proceed (y/[n])? y\n"
     ]
    }
   ],
   "source": [
    "%reset"
   ]
  },
  {
   "cell_type": "code",
   "execution_count": 94,
   "metadata": {},
   "outputs": [
    {
     "name": "stdout",
     "output_type": "stream",
     "text": [
      "Variable    Type        Data/Info\n",
      "---------------------------------\n",
      "get_lotto   function    <function get_lotto at 0x10baf85f0>\n"
     ]
    }
   ],
   "source": [
    "%whos"
   ]
  },
  {
   "cell_type": "code",
   "execution_count": null,
   "metadata": {},
   "outputs": [],
   "source": [
    "# return 이 있는 함수 return 이 없는 함수"
   ]
  },
  {
   "cell_type": "code",
   "execution_count": 104,
   "metadata": {},
   "outputs": [],
   "source": [
    "def plus(num1, num2): #파마니터 num1,num2\n",
    "    print(num1 + num2)\n",
    "    return num1 + num2"
   ]
  },
  {
   "cell_type": "code",
   "execution_count": 105,
   "metadata": {},
   "outputs": [
    {
     "name": "stdout",
     "output_type": "stream",
     "text": [
      "3\n",
      "3\n"
     ]
    }
   ],
   "source": [
    "result = plus(1,2) #아규먼트 1,2\n",
    "print(result)"
   ]
  },
  {
   "cell_type": "code",
   "execution_count": 107,
   "metadata": {},
   "outputs": [
    {
     "data": {
      "text/plain": [
       "'PYTHON'"
      ]
     },
     "execution_count": 107,
     "metadata": {},
     "output_type": "execute_result"
    }
   ],
   "source": [
    "data1 = 'python'\n",
    "result = data1.upper() # return이 있는 함수\n",
    "result"
   ]
  },
  {
   "cell_type": "code",
   "execution_count": 108,
   "metadata": {},
   "outputs": [
    {
     "data": {
      "text/plain": [
       "('python', 'PYTHON')"
      ]
     },
     "execution_count": 108,
     "metadata": {},
     "output_type": "execute_result"
    }
   ],
   "source": [
    "data1, result"
   ]
  },
  {
   "cell_type": "code",
   "execution_count": 110,
   "metadata": {},
   "outputs": [
    {
     "data": {
      "text/plain": [
       "([1, 2, 3], None)"
      ]
     },
     "execution_count": 110,
     "metadata": {},
     "output_type": "execute_result"
    }
   ],
   "source": [
    "data2 = [3,2,1]\n",
    "result = data2.sort()\n",
    "data2, result"
   ]
  },
  {
   "cell_type": "code",
   "execution_count": 114,
   "metadata": {},
   "outputs": [],
   "source": [
    "def plus(num1, num2=10, num3=20): #디폴트 파라메터\n",
    "    return num1 + num2 - num3"
   ]
  },
  {
   "cell_type": "code",
   "execution_count": 116,
   "metadata": {},
   "outputs": [
    {
     "name": "stdout",
     "output_type": "stream",
     "text": [
      "-89\n"
     ]
    }
   ],
   "source": [
    "result = plus(1,num3=100) #키워드 아규먼트\n",
    "print(result)"
   ]
  },
  {
   "cell_type": "code",
   "execution_count": 120,
   "metadata": {},
   "outputs": [
    {
     "name": "stdout",
     "output_type": "stream",
     "text": [
      "1-2\t3\n"
     ]
    }
   ],
   "source": [
    "print(1,2,sep=\"-\", end='\\t')\n",
    "print(3)"
   ]
  },
  {
   "cell_type": "code",
   "execution_count": null,
   "metadata": {},
   "outputs": [],
   "source": [
    "# *args, **kwargs\n",
    "# *args   : non keywork 아규먼트를 받습니다.\n",
    "# *kwargs : keyworkd 아규먼드를 받습니다."
   ]
  },
  {
   "cell_type": "code",
   "execution_count": 140,
   "metadata": {},
   "outputs": [],
   "source": [
    "def plus(*args, **kwargs): #디폴트 파라미터\n",
    "    print(type(args),args)\n",
    "    print(type(kwargs), kwargs)"
   ]
  },
  {
   "cell_type": "code",
   "execution_count": 142,
   "metadata": {},
   "outputs": [
    {
     "name": "stdout",
     "output_type": "stream",
     "text": [
      "<class 'tuple'> (1, 2)\n",
      "<class 'dict'> {'num1': 4, 'num2': 6}\n"
     ]
    }
   ],
   "source": [
    "result = plus(1,2, num1=4,num2=6) #키워드 아규먼트\n",
    "result"
   ]
  },
  {
   "cell_type": "code",
   "execution_count": 143,
   "metadata": {},
   "outputs": [
    {
     "data": {
      "text/plain": [
       "'(1, 2, 3)'"
      ]
     },
     "execution_count": 143,
     "metadata": {},
     "output_type": "execute_result"
    }
   ],
   "source": [
    "#형변환: int, float, str, bool, list, tuple, dict\n",
    "tp = (1,2,3)\n",
    "str(tp)"
   ]
  },
  {
   "cell_type": "code",
   "execution_count": 144,
   "metadata": {},
   "outputs": [
    {
     "name": "stdout",
     "output_type": "stream",
     "text": [
      "<class 'tuple'> ([4, 5],)\n",
      "<class 'dict'> {}\n",
      "<class 'tuple'> (4, 5)\n",
      "<class 'dict'> {}\n",
      "<class 'tuple'> (4, 5)\n",
      "<class 'dict'> {}\n"
     ]
    }
   ],
   "source": [
    "args1 =[4,5]\n",
    "plus(args1) #plus([4,5])\n",
    "plus(4,5)\n",
    "plus(*args1) #plus(4,5)"
   ]
  },
  {
   "cell_type": "markdown",
   "metadata": {},
   "source": [
    "### 데코레이터\n",
    "- 코드를 바꾸지 않고 미리 정의된 데코레이터 함수로 함수의 기능을 추가하거나 수정\n",
    "\n",
    "'''\n",
    "def a():\n",
    "    code1\n",
    "    code2\n",
    "    code3\n",
    "\n",
    "def b():\n",
    "    code1\n",
    "    code4\n",
    "    code3\n",
    "    \n",
    "    \n",
    "def deco(func):\n",
    "    def wrapper(*args, **kwargs):\n",
    "        code 1\n",
    "        func() #code 2,code 4\n",
    "        code 3\n",
    "    return wrapper\n",
    "    \n",
    "\n",
    "@deco\n",
    "def a():\n",
    "    code 2\n",
    "\n",
    "@deco\n",
    "def b():\n",
    "    code 4\n",
    "\n",
    "\n",
    "'''"
   ]
  },
  {
   "cell_type": "code",
   "execution_count": 156,
   "metadata": {},
   "outputs": [],
   "source": [
    "names = [\"python\", \"data\"]\n",
    "\n",
    "def deco(func):\n",
    "\n",
    "    def wrapper(*args, **kwargs):\n",
    "        name = input(\"insert name :\")\n",
    "        if name in names:\n",
    "            result = func(*args, **kwargs)\n",
    "            return result\n",
    "        return \"Wrong Name\"\n",
    "\n",
    "    return wrapper"
   ]
  },
  {
   "cell_type": "code",
   "execution_count": 157,
   "metadata": {},
   "outputs": [],
   "source": [
    "import random\n",
    "\n",
    "@deco\n",
    "def dice():\n",
    "    return random.randint(1,6)"
   ]
  },
  {
   "cell_type": "code",
   "execution_count": null,
   "metadata": {},
   "outputs": [],
   "source": [
    "dice()"
   ]
  },
  {
   "cell_type": "markdown",
   "metadata": {},
   "source": [
    "### 클래스\n",
    "- 변수와 함수를 기능별로 모아놓은 개념\n",
    "- 클래스 선언 -> 객체로 만들기 -> 객체의 함수를 실행"
   ]
  },
  {
   "cell_type": "code",
   "execution_count": 2,
   "metadata": {},
   "outputs": [],
   "source": [
    "#클래스 선언\n",
    "class Calc:\n",
    "    num1 = 1\n",
    "    num2 = 2\n",
    "    \n",
    "    def add(self):\n",
    "        return self.num1 + self.num2"
   ]
  },
  {
   "cell_type": "code",
   "execution_count": 7,
   "metadata": {},
   "outputs": [],
   "source": [
    "#객체 만들기\n",
    "calc1 = Calc()\n",
    "calc2 = Calc()"
   ]
  },
  {
   "cell_type": "code",
   "execution_count": 8,
   "metadata": {},
   "outputs": [
    {
     "data": {
      "text/plain": [
       "(1, 2, 3)"
      ]
     },
     "execution_count": 8,
     "metadata": {},
     "output_type": "execute_result"
    }
   ],
   "source": [
    "#함수의 사용\n",
    "calc1.num1, calc1.num2, calc1.add()"
   ]
  },
  {
   "cell_type": "code",
   "execution_count": 9,
   "metadata": {},
   "outputs": [],
   "source": [
    "calc2.num1, calc2.num2 = 4,5"
   ]
  },
  {
   "cell_type": "code",
   "execution_count": 10,
   "metadata": {},
   "outputs": [
    {
     "data": {
      "text/plain": [
       "(4, 5, 9)"
      ]
     },
     "execution_count": 10,
     "metadata": {},
     "output_type": "execute_result"
    }
   ],
   "source": [
    "calc2.num1, calc2.num2, calc2.add()"
   ]
  },
  {
   "cell_type": "code",
   "execution_count": 12,
   "metadata": {},
   "outputs": [
    {
     "data": {
      "text/plain": [
       "['add', 'num1', 'num2']"
      ]
     },
     "execution_count": 12,
     "metadata": {},
     "output_type": "execute_result"
    }
   ],
   "source": [
    "funs = [func for func in dir(calc) if func[0] != \"_\"]\n",
    "funs"
   ]
  },
  {
   "cell_type": "code",
   "execution_count": null,
   "metadata": {},
   "outputs": [],
   "source": [
    "### 8.모듈\n",
    "- 변수, 함수, 클래스를 하나의 파일로 모아놓은 개념\n",
    "- 패캐지 : 모듈을 디렉토리별로 분류해서 모하놓은 개념\n",
    "- import, from, as"
   ]
  },
  {
   "cell_type": "code",
   "execution_count": 18,
   "metadata": {},
   "outputs": [
    {
     "name": "stdout",
     "output_type": "stream",
     "text": [
      "Writing ktds.py\n"
     ]
    }
   ],
   "source": [
    "%%writefile ktds.py\n",
    "num1 = 10\n",
    "\n",
    "def plus(num1,num2):\n",
    "    return num1 + num2 + 100\n",
    "\n",
    "class Calc:\n",
    "    \n",
    "    num1 = 1\n",
    "    num2 = 2\n",
    "    \n",
    "    def add(self):\n",
    "        return self.num1 + self.num2"
   ]
  },
  {
   "cell_type": "code",
   "execution_count": 19,
   "metadata": {},
   "outputs": [
    {
     "name": "stdout",
     "output_type": "stream",
     "text": [
      "\u001b[34m1일차 카산드라\u001b[m\u001b[m/\r\n",
      "\u001b[34m2일차 카산드라\u001b[m\u001b[m/\r\n",
      "\u001b[34mApplications\u001b[m\u001b[m/\r\n",
      "\u001b[34mDesktop\u001b[m\u001b[m/\r\n",
      "\u001b[34mDocuments\u001b[m\u001b[m/\r\n",
      "\u001b[34mDownloads\u001b[m\u001b[m/\r\n",
      "\u001b[34mLibrary\u001b[m\u001b[m/\r\n",
      "\u001b[34mMovies\u001b[m\u001b[m/\r\n",
      "\u001b[34mMusic\u001b[m\u001b[m/\r\n",
      "\u001b[34mPictures\u001b[m\u001b[m/\r\n",
      "\u001b[34mPublic\u001b[m\u001b[m/\r\n",
      "\u001b[34mPycharmProjects\u001b[m\u001b[m/\r\n",
      "Python 교육.ipynb\r\n",
      "\u001b[34mVirtualBox VMs\u001b[m\u001b[m/\r\n",
      "ktds.py\r\n",
      "\u001b[34mminiconda3\u001b[m\u001b[m/\r\n",
      "\u001b[34mopt\u001b[m\u001b[m/\r\n",
      "\u001b[34mworkspace\u001b[m\u001b[m/\r\n",
      "\u001b[34m윈도우\u001b[m\u001b[m/\r\n",
      "\u001b[34m윈도우 복사본\u001b[m\u001b[m/\r\n",
      "\u001b[34m서연이50일\u001b[m\u001b[m/\r\n"
     ]
    }
   ],
   "source": [
    "%ls"
   ]
  },
  {
   "cell_type": "code",
   "execution_count": 20,
   "metadata": {},
   "outputs": [
    {
     "name": "stdout",
     "output_type": "stream",
     "text": [
      "num1 = 10\r\n",
      "\r\n",
      "def plus(num1,num2):\r\n",
      "    return num1 + num2 + 100\r\n",
      "\r\n",
      "class Calc:\r\n",
      "    \r\n",
      "    num1 = 1\r\n",
      "    num2 = 2\r\n",
      "    \r\n",
      "    def add(self):\r\n",
      "        return self.num1 + self.num2\r\n"
     ]
    }
   ],
   "source": [
    "%cat ktds.py"
   ]
  },
  {
   "cell_type": "code",
   "execution_count": null,
   "metadata": {},
   "outputs": [],
   "source": [
    "# %load ktds.py\n",
    "num1 = 10\n",
    "\n",
    "def plus(num1,num2):\n",
    "    return num1 + num2 + 100\n",
    "\n",
    "class Calc:\n",
    "    \n",
    "    num1 = 1\n",
    "    num2 = 2\n",
    "    \n",
    "    def add(self):\n",
    "        return self.num1 + self.num2\n"
   ]
  },
  {
   "cell_type": "code",
   "execution_count": 22,
   "metadata": {},
   "outputs": [
    {
     "name": "stdout",
     "output_type": "stream",
     "text": [
      "Once deleted, variables cannot be recovered. Proceed (y/[n])? y\n"
     ]
    }
   ],
   "source": [
    "%reset"
   ]
  },
  {
   "cell_type": "code",
   "execution_count": 23,
   "metadata": {},
   "outputs": [],
   "source": [
    "import ktds"
   ]
  },
  {
   "cell_type": "code",
   "execution_count": 28,
   "metadata": {},
   "outputs": [
    {
     "name": "stdout",
     "output_type": "stream",
     "text": [
      "Variable   Type      Data/Info\n",
      "------------------------------\n",
      "kd         module    <module 'ktds' from '/Users/MACPRO/ktds.py'>\n",
      "ktds       module    <module 'ktds' from '/Users/MACPRO/ktds.py'>\n"
     ]
    }
   ],
   "source": [
    "%whos"
   ]
  },
  {
   "cell_type": "code",
   "execution_count": 25,
   "metadata": {},
   "outputs": [
    {
     "data": {
      "text/plain": [
       "109"
      ]
     },
     "execution_count": 25,
     "metadata": {},
     "output_type": "execute_result"
    }
   ],
   "source": [
    "ktds.plus(4,5)"
   ]
  },
  {
   "cell_type": "code",
   "execution_count": 26,
   "metadata": {},
   "outputs": [],
   "source": [
    "import ktds as kd"
   ]
  },
  {
   "cell_type": "code",
   "execution_count": 31,
   "metadata": {},
   "outputs": [
    {
     "name": "stdout",
     "output_type": "stream",
     "text": [
      "Variable   Type      Data/Info\n",
      "------------------------------\n",
      "Calc       type      <class 'ktds.Calc'>\n",
      "kd         module    <module 'ktds' from '/Users/MACPRO/ktds.py'>\n",
      "ktds       module    <module 'ktds' from '/Users/MACPRO/ktds.py'>\n",
      "num1       int       10\n"
     ]
    }
   ],
   "source": [
    "%whos"
   ]
  },
  {
   "cell_type": "code",
   "execution_count": 30,
   "metadata": {},
   "outputs": [],
   "source": [
    "from ktds import Calc, num1"
   ]
  },
  {
   "cell_type": "code",
   "execution_count": 33,
   "metadata": {},
   "outputs": [],
   "source": [
    "calc = Calc()"
   ]
  },
  {
   "cell_type": "code",
   "execution_count": 34,
   "metadata": {},
   "outputs": [
    {
     "data": {
      "text/plain": [
       "3"
      ]
     },
     "execution_count": 34,
     "metadata": {},
     "output_type": "execute_result"
    }
   ],
   "source": [
    "calc.add()"
   ]
  },
  {
   "cell_type": "markdown",
   "metadata": {},
   "source": [
    "#### 9. 예외처리\n",
    "- 코드 실행 시 에러가 발생할 때 어떻게 처리할지에 대한 개념"
   ]
  },
  {
   "cell_type": "code",
   "execution_count": null,
   "metadata": {},
   "outputs": [],
   "source": [
    "print(\"done\")"
   ]
  },
  {
   "cell_type": "code",
   "execution_count": 36,
   "metadata": {},
   "outputs": [
    {
     "name": "stdout",
     "output_type": "stream",
     "text": [
      "10.0\n",
      "done\n"
     ]
    }
   ],
   "source": [
    "data = 10\n",
    "\n",
    "try:\n",
    "    print(data/0)\n",
    "\n",
    "except: \n",
    "    print(data/1)\n",
    "\n",
    "print(\"done\")"
   ]
  },
  {
   "cell_type": "code",
   "execution_count": 38,
   "metadata": {},
   "outputs": [],
   "source": [
    "#예외처리 만들기\n",
    "class LowNumber(Exception):\n",
    "    \n",
    "    def __str__(self):\n",
    "        return \"Number grator than 10\""
   ]
  },
  {
   "cell_type": "code",
   "execution_count": 41,
   "metadata": {},
   "outputs": [],
   "source": [
    "def input_number(num):\n",
    "    if num <= 10:\n",
    "        raise LowNumber()\n",
    "    print(num)"
   ]
  },
  {
   "cell_type": "code",
   "execution_count": 43,
   "metadata": {},
   "outputs": [
    {
     "ename": "LowNumber",
     "evalue": "Number grator than 10",
     "output_type": "error",
     "traceback": [
      "\u001b[0;31m---------------------------------------------------------------------------\u001b[0m",
      "\u001b[0;31mLowNumber\u001b[0m                                 Traceback (most recent call last)",
      "\u001b[0;32m<ipython-input-43-68e5aa26cfd6>\u001b[0m in \u001b[0;36m<module>\u001b[0;34m\u001b[0m\n\u001b[0;32m----> 1\u001b[0;31m \u001b[0minput_number\u001b[0m\u001b[0;34m(\u001b[0m\u001b[0;36m5\u001b[0m\u001b[0;34m)\u001b[0m\u001b[0;34m\u001b[0m\u001b[0;34m\u001b[0m\u001b[0m\n\u001b[0m",
      "\u001b[0;32m<ipython-input-41-2dcc4faaa999>\u001b[0m in \u001b[0;36minput_number\u001b[0;34m(num)\u001b[0m\n\u001b[1;32m      1\u001b[0m \u001b[0;32mdef\u001b[0m \u001b[0minput_number\u001b[0m\u001b[0;34m(\u001b[0m\u001b[0mnum\u001b[0m\u001b[0;34m)\u001b[0m\u001b[0;34m:\u001b[0m\u001b[0;34m\u001b[0m\u001b[0;34m\u001b[0m\u001b[0m\n\u001b[1;32m      2\u001b[0m     \u001b[0;32mif\u001b[0m \u001b[0mnum\u001b[0m \u001b[0;34m<=\u001b[0m \u001b[0;36m10\u001b[0m\u001b[0;34m:\u001b[0m\u001b[0;34m\u001b[0m\u001b[0;34m\u001b[0m\u001b[0m\n\u001b[0;32m----> 3\u001b[0;31m         \u001b[0;32mraise\u001b[0m \u001b[0mLowNumber\u001b[0m\u001b[0;34m(\u001b[0m\u001b[0;34m)\u001b[0m\u001b[0;34m\u001b[0m\u001b[0;34m\u001b[0m\u001b[0m\n\u001b[0m\u001b[1;32m      4\u001b[0m     \u001b[0mprint\u001b[0m\u001b[0;34m(\u001b[0m\u001b[0mnum\u001b[0m\u001b[0;34m)\u001b[0m\u001b[0;34m\u001b[0m\u001b[0;34m\u001b[0m\u001b[0m\n",
      "\u001b[0;31mLowNumber\u001b[0m: Number grator than 10"
     ]
    }
   ],
   "source": [
    "input_number(5)"
   ]
  },
  {
   "cell_type": "code",
   "execution_count": null,
   "metadata": {},
   "outputs": [],
   "source": []
  },
  {
   "cell_type": "code",
   "execution_count": null,
   "metadata": {},
   "outputs": [],
   "source": []
  },
  {
   "cell_type": "code",
   "execution_count": null,
   "metadata": {},
   "outputs": [],
   "source": []
  }
 ],
 "metadata": {
  "kernelspec": {
   "display_name": "Python 3",
   "language": "python",
   "name": "python3"
  },
  "language_info": {
   "codemirror_mode": {
    "name": "ipython",
    "version": 3
   },
   "file_extension": ".py",
   "mimetype": "text/x-python",
   "name": "python",
   "nbconvert_exporter": "python",
   "pygments_lexer": "ipython3",
   "version": "3.7.4"
  }
 },
 "nbformat": 4,
 "nbformat_minor": 2
}
