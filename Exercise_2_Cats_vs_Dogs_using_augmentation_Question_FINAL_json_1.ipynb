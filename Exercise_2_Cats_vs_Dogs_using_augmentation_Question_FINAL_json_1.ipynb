{
  "nbformat": 4,
  "nbformat_minor": 0,
  "metadata": {
    "accelerator": "GPU",
    "colab": {
      "name": "Exercise_2_Cats_vs_Dogs_using_augmentation_Question-FINAL.json-1.ipynb",
      "provenance": [],
      "collapsed_sections": [],
      "include_colab_link": true
    },
    "coursera": {
      "course_slug": "convolutional-neural-networks-tensorflow",
      "graded_item_id": "uAPOR",
      "launcher_item_id": "e9lTb"
    },
    "kernelspec": {
      "display_name": "Python 3",
      "language": "python",
      "name": "python3"
    },
    "language_info": {
      "codemirror_mode": {
        "name": "ipython",
        "version": 3
      },
      "file_extension": ".py",
      "mimetype": "text/x-python",
      "name": "python",
      "nbconvert_exporter": "python",
      "pygments_lexer": "ipython3",
      "version": "3.6.8"
    }
  },
  "cells": [
    {
      "cell_type": "markdown",
      "metadata": {
        "id": "view-in-github",
        "colab_type": "text"
      },
      "source": [
        "<a href=\"https://colab.research.google.com/github/byjoon-cloud/study/blob/master/Exercise_2_Cats_vs_Dogs_using_augmentation_Question_FINAL_json_1.ipynb\" target=\"_parent\"><img src=\"https://colab.research.google.com/assets/colab-badge.svg\" alt=\"Open In Colab\"/></a>"
      ]
    },
    {
      "cell_type": "code",
      "metadata": {
        "id": "dn-6c02VmqiN"
      },
      "source": [
        "# ATTENTION: Please do not alter any of the provided code in the exercise. Only add your own code where indicated\n",
        "# ATTENTION: Please do not add or remove any cells in the exercise. The grader will check specific cells based on the cell position.\n",
        "# ATTENTION: Please use the provided epoch values when training.\n",
        " \n",
        "# In this exercise you will train a CNN on the FULL Cats-v-dogs dataset\n",
        "# This will require you doing a lot of data preprocessing because\n",
        "# the dataset isn't split into training and validation for you\n",
        "# This code block has all the required inputs\n",
        "import os\n",
        "import zipfile\n",
        "import random\n",
        "import shutil\n",
        "import tensorflow as tf\n",
        "from tensorflow.keras.optimizers import RMSprop\n",
        "from tensorflow.keras.preprocessing.image import ImageDataGenerator\n",
        "from shutil import copyfile\n",
        "from os import getcwd"
      ],
      "execution_count": null,
      "outputs": []
    },
    {
      "cell_type": "code",
      "metadata": {
        "colab": {
          "base_uri": "https://localhost:8080/"
        },
        "id": "3sd9dQWa23aj",
        "outputId": "b1b04df3-699d-4537-df4a-e1c611a4de88"
      },
      "source": [
        "!wget --no-check-certificate \\\n",
        "    https://storage.googleapis.com/mledu-datasets/cats_and_dogs_filtered.zip \\\n",
        "    -O /tmp/cats_and_dogs_filtered.zip\n",
        "\n",
        "path_cats_and_dogs = '/tmp/cats_and_dogs_filtered.zip' \n",
        "local_zip = path_cats_and_dogs\n",
        "zip_ref = zipfile.ZipFile(local_zip)\n",
        "zip_ref.extractall('/tmp')\n",
        "zip_ref.close()"
      ],
      "execution_count": null,
      "outputs": [
        {
          "output_type": "stream",
          "text": [
            "--2021-04-13 03:45:28--  https://storage.googleapis.com/mledu-datasets/cats_and_dogs_filtered.zip\n",
            "Resolving storage.googleapis.com (storage.googleapis.com)... 74.125.20.128, 74.125.142.128, 74.125.195.128, ...\n",
            "Connecting to storage.googleapis.com (storage.googleapis.com)|74.125.20.128|:443... connected.\n",
            "HTTP request sent, awaiting response... 200 OK\n",
            "Length: 68606236 (65M) [application/zip]\n",
            "Saving to: ‘/tmp/cats_and_dogs_filtered.zip’\n",
            "\n",
            "/tmp/cats_and_dogs_ 100%[===================>]  65.43M   225MB/s    in 0.3s    \n",
            "\n",
            "2021-04-13 03:45:28 (225 MB/s) - ‘/tmp/cats_and_dogs_filtered.zip’ saved [68606236/68606236]\n",
            "\n"
          ],
          "name": "stdout"
        }
      ]
    },
    {
      "cell_type": "code",
      "metadata": {
        "colab": {
          "base_uri": "https://localhost:8080/"
        },
        "id": "gi3yD62a6X3S",
        "outputId": "519e42c8-9fc3-4d91-bde6-96c0f3ccedfa"
      },
      "source": [
        "base_dir = '/tmp/cats_and_dogs_filtered'\n",
        "\n",
        "# Directory with our training \n",
        "train_dir = os.path.join(base_dir, 'train')\n",
        "validation_dir = os.path.join(base_dir, 'validation')\n",
        "\n",
        "# Directory with our training cat/dog pictures\n",
        "train_cats_dir = os.path.join(train_dir, 'cats/')\n",
        "train_dogs_dir = os.path.join(train_dir, 'dogs/')\n",
        "\n",
        "# Directory with our validation cat/dog pictures\n",
        "validation_cats_dir = os.path.join(validation_dir, 'cats/')\n",
        "validation_dogs_dir = os.path.join(validation_dir, 'dogs/')\n",
        "\n",
        "#print(len(os.listdir('/tmp/PetImages/Cat/')))\n",
        "#print(len(os.listdir('/tmp/PetImages/Dog/')))\n",
        "#아래와 같이 변경\n",
        "print(len(os.listdir(train_cats_dir)))\n",
        "print(len(os.listdir(train_dogs_dir)))\n",
        "print(len(os.listdir(validation_cats_dir)))\n",
        "print(len(os.listdir(validation_dogs_dir)))\n",
        "\n",
        "# Expected Output:\n",
        "# 1500\n",
        "# 1500"
      ],
      "execution_count": null,
      "outputs": [
        {
          "output_type": "stream",
          "text": [
            "1000\n",
            "1000\n",
            "500\n",
            "500\n"
          ],
          "name": "stdout"
        }
      ]
    },
    {
      "cell_type": "code",
      "metadata": {
        "id": "F-QkLjxpmyK2"
      },
      "source": [
        "# Use os.mkdir to create your directories\n",
        "# You will need a directory for cats-v-dogs, and subdirectories for training\n",
        "# and testing. These in turn will need subdirectories for 'cats' and 'dogs'\n",
        "folder_list = ['/tmp/cats-v-dogs/', '/tmp/cats-v-dogs/training/',\n",
        "              '/tmp/cats-v-dogs/testing/', '/tmp/cats-v-dogs/training/cats/',\n",
        "              '/tmp/cats-v-dogs/training/dogs/', '/tmp/cats-v-dogs/testing/cats/',\n",
        "              '/tmp/cats-v-dogs/testing/dogs/']\n",
        "\n",
        "for i in folder_list:\n",
        "    try:\n",
        "        os.mkdir(i)\n",
        "    except FileExistsError:\n",
        "        pass"
      ],
      "execution_count": null,
      "outputs": []
    },
    {
      "cell_type": "code",
      "metadata": {
        "id": "zvSODo0f9LaU"
      },
      "source": [
        "# Write a python function called split_data which takes\n",
        "# a SOURCE directory containing the files\n",
        "# a TRAINING directory that a portion of the files will be copied to\n",
        "# a TESTING directory that a portion of the files will be copie to\n",
        "# a SPLIT SIZE to determine the portion\n",
        "# The files should also be randomized, so that the training set is a random\n",
        "# X% of the files, and the test set is the remaining files\n",
        "# SO, for example, if SOURCE is PetImages/Cat, and SPLIT SIZE is .9\n",
        "# Then 90% of the images in PetImages/Cat will be copied to the TRAINING dir\n",
        "# and 10% of the images will be copied to the TESTING dir\n",
        "# Also -- All images should be checked, and if they have a zero file length,\n",
        "# they will not be copied over\n",
        "#\n",
        "# os.listdir(DIRECTORY) gives you a listing of the contents of that directory\n",
        "# os.path.getsize(PATH) gives you the size of the file\n",
        "# copyfile(source, destination) copies a file from source to destination\n",
        "# random.sample(list, len(list)) shuffles a list\n",
        "def split_data(SOURCE, TRAINING, TESTING, SPLIT_SIZE):\n",
        "# YOUR CODE STARTS HERE\n",
        "# YOUR CODE ENDS HERE\n",
        "\n",
        "\n",
        "  file_len = len(os.listdir(SOURCE))\n",
        "  train_size = int(file_len * SPLIT_SIZE)\n",
        "    # test file 선정\n",
        "  test_file = random.sample(os.listdir(SOURCE), file_len - train_size)\n",
        "  total_file = os.listdir(SOURCE)\n",
        "    \n",
        "  for i in total_file:\n",
        "        if i in test_file:\n",
        "            pass\n",
        "        else:\n",
        "            copyfile(SOURCE+i, TRAINING+i)\n",
        "    \n",
        "  for i in test_file:\n",
        "        copyfile(SOURCE+i, TESTING+i)\n",
        "\n",
        "\n",
        " # for fname in os.listdir(SOURCE):\n",
        " #   if fname in test_files:\n",
        " #       pass\n",
        " #   else:\n",
        " #       copyfile(SOURCE+fname,TRAINING+fname)\n",
        " # for fname in test_files:\n",
        " #     copyfile(SOURCE+fname,TESTING+fname)\n",
        "# YOUR CODE ENDS HERE\n",
        "\n",
        "\n",
        "#CAT_SOURCE_DIR = \"/tmp/PetImages/Cat/\"\n",
        "CAT_SOURCE_DIR = train_cats_dir\n",
        "TRAINING_CATS_DIR = \"/tmp/cats-v-dogs/training/cats/\"\n",
        "TESTING_CATS_DIR = \"/tmp/cats-v-dogs/testing/cats/\"\n",
        "#DOG_SOURCE_DIR = \"/tmp/PetImages/Dog/\"\n",
        "DOG_SOURCE_DIR =  train_dogs_dir\n",
        "TRAINING_DOGS_DIR = \"/tmp/cats-v-dogs/training/dogs/\"\n",
        "TESTING_DOGS_DIR = \"/tmp/cats-v-dogs/testing/dogs/\"\n",
        "\n",
        "split_size = .9\n",
        "split_data(CAT_SOURCE_DIR, TRAINING_CATS_DIR, TESTING_CATS_DIR, split_size)\n",
        "split_data(DOG_SOURCE_DIR, TRAINING_DOGS_DIR, TESTING_DOGS_DIR, split_size)\n",
        "\n"
      ],
      "execution_count": null,
      "outputs": []
    },
    {
      "cell_type": "code",
      "metadata": {
        "colab": {
          "base_uri": "https://localhost:8080/"
        },
        "id": "luthalB76ufC",
        "outputId": "5144abf5-ef3c-4707-b5fb-334f9c24a876"
      },
      "source": [
        "print(len(os.listdir('/tmp/cats-v-dogs/training/cats/')))\n",
        "print(len(os.listdir('/tmp/cats-v-dogs/training/dogs/')))\n",
        "print(len(os.listdir('/tmp/cats-v-dogs/testing/cats/')))\n",
        "print(len(os.listdir('/tmp/cats-v-dogs/testing/dogs/')))\n",
        "\n",
        "# Expected output:\n",
        "# 1350\n",
        "# 1350\n",
        "# 150\n",
        "# 150"
      ],
      "execution_count": null,
      "outputs": [
        {
          "output_type": "stream",
          "text": [
            "900\n",
            "900\n",
            "100\n",
            "100\n"
          ],
          "name": "stdout"
        }
      ]
    },
    {
      "cell_type": "code",
      "metadata": {
        "id": "-BQrav4anTmj"
      },
      "source": [
        "# DEFINE A KERAS MODEL TO CLASSIFY CATS V DOGS\n",
        "# USE AT LEAST 3 CONVOLUTION LAYERS\n",
        "model = tf.keras.models.Sequential([\n",
        "# YOUR CODE HERE\n",
        "])\n",
        "\n",
        "model.compile(optimizer=RMSprop(lr=0.001), loss='binary_crossentropy', metrics=['acc'])"
      ],
      "execution_count": null,
      "outputs": []
    },
    {
      "cell_type": "markdown",
      "metadata": {
        "id": "-ipH8vbeVNW8"
      },
      "source": [
        "# NOTE:\n",
        "\n",
        "In the cell below you **MUST** use a batch size of 10 (`batch_size=10`) for the `train_generator` and the `validation_generator`. Using a batch size greater than 10 will exceed memory limits on the Coursera platform."
      ]
    },
    {
      "cell_type": "code",
      "metadata": {
        "id": "mlNjoJ5D61N6"
      },
      "source": [
        "TRAINING_DIR = #YOUR CODE HERE\n",
        "train_datagen = #YOUR CODE HERE\n",
        "\n",
        "# NOTE: YOU MUST USE A BATCH SIZE OF 10 (batch_size=10) FOR THE \n",
        "# TRAIN GENERATOR.\n",
        "train_generator = #YOUR CODE HERE\n",
        "\n",
        "VALIDATION_DIR = #YOUR CODE HERE\n",
        "validation_datagen = #YOUR CODE HERE\n",
        "\n",
        "# NOTE: YOU MUST USE A BACTH SIZE OF 10 (batch_size=10) FOR THE \n",
        "# VALIDATION GENERATOR.\n",
        "validation_generator = #YOUR CODE HERE\n",
        "\n",
        "\n",
        "\n",
        "# Expected Output:\n",
        "# Found 2700 images belonging to 2 classes.\n",
        "# Found 300 images belonging to 2 classes."
      ],
      "execution_count": null,
      "outputs": []
    },
    {
      "cell_type": "code",
      "metadata": {
        "id": "KyS4n53w7DxC"
      },
      "source": [
        "history = model.fit_generator(train_generator,\n",
        "                              epochs=2,\n",
        "                              verbose=1,\n",
        "                              validation_data=validation_generator)\n"
      ],
      "execution_count": null,
      "outputs": []
    },
    {
      "cell_type": "code",
      "metadata": {
        "id": "MWZrJN4-65RC"
      },
      "source": [
        "# PLOT LOSS AND ACCURACY\n",
        "%matplotlib inline\n",
        "\n",
        "import matplotlib.image  as mpimg\n",
        "import matplotlib.pyplot as plt\n",
        "\n",
        "#-----------------------------------------------------------\n",
        "# Retrieve a list of list results on training and test data\n",
        "# sets for each training epoch\n",
        "#-----------------------------------------------------------\n",
        "acc=history.history['acc']\n",
        "val_acc=history.history['val_acc']\n",
        "loss=history.history['loss']\n",
        "val_loss=history.history['val_loss']\n",
        "\n",
        "epochs=range(len(acc)) # Get number of epochs\n",
        "\n",
        "#------------------------------------------------\n",
        "# Plot training and validation accuracy per epoch\n",
        "#------------------------------------------------\n",
        "plt.plot(epochs, acc, 'r', \"Training Accuracy\")\n",
        "plt.plot(epochs, val_acc, 'b', \"Validation Accuracy\")\n",
        "plt.title('Training and validation accuracy')\n",
        "plt.figure()\n",
        "\n",
        "#------------------------------------------------\n",
        "# Plot training and validation loss per epoch\n",
        "#------------------------------------------------\n",
        "plt.plot(epochs, loss, 'r', \"Training Loss\")\n",
        "plt.plot(epochs, val_loss, 'b', \"Validation Loss\")\n",
        "\n",
        "\n",
        "plt.title('Training and validation loss')\n",
        "\n",
        "# Desired output. Charts with training and validation metrics. No crash :)"
      ],
      "execution_count": null,
      "outputs": []
    },
    {
      "cell_type": "markdown",
      "metadata": {
        "id": "TwM2tt_FVNXB"
      },
      "source": [
        "# Submission Instructions"
      ]
    },
    {
      "cell_type": "code",
      "metadata": {
        "id": "8A_JPZcSVNXB"
      },
      "source": [
        "# Now click the 'Submit Assignment' button above."
      ],
      "execution_count": null,
      "outputs": []
    },
    {
      "cell_type": "markdown",
      "metadata": {
        "id": "jfUr98DBVNXC"
      },
      "source": [
        "# When you're done or would like to take a break, please run the two cells below to save your work and close the Notebook. This will free up resources for your fellow learners. "
      ]
    },
    {
      "cell_type": "code",
      "metadata": {
        "id": "p7bi8V5EVNXD"
      },
      "source": [
        "%%javascript\n",
        "<!-- Save the notebook -->\n",
        "IPython.notebook.save_checkpoint();"
      ],
      "execution_count": null,
      "outputs": []
    },
    {
      "cell_type": "code",
      "metadata": {
        "id": "8WkY5fv-VNXD"
      },
      "source": [
        "%%javascript\n",
        "IPython.notebook.session.delete();\n",
        "window.onbeforeunload = null\n",
        "setTimeout(function() { window.close(); }, 1000);"
      ],
      "execution_count": null,
      "outputs": []
    }
  ]
}